{
 "cells": [
  {
   "cell_type": "markdown",
   "metadata": {},
   "source": [
    "### Контрольная работа № 1.\n",
    "### Вариант 1.\n",
    "#### Студент Сафиуллин Артур группа ТРПО23-2"
   ]
  },
  {
   "cell_type": "markdown",
   "metadata": {},
   "source": [
    "1. Создайте класс Length (Длина), имеющий свойства\n",
    "\n",
    "• value (значение),\n",
    "\n",
    "• unit (единица измерения).\n",
    "\n",
    "При изменении единицы измерения значение должно соответственно меняться. Например, при переходе от сантиметров к метрам значение должно уменьшаться в 100 раз. Допустимые значения свойства unit: ‘см’, ‘м’, ‘км’. Организуйте эту проверку. Продемонстрируйте работу с классом."
   ]
  },
  {
   "cell_type": "code",
   "execution_count": 20,
   "metadata": {},
   "outputs": [
    {
     "name": "stdout",
     "output_type": "stream",
     "text": [
      "1000 м\n",
      "1.0 км\n",
      "100000.0 см\n"
     ]
    }
   ],
   "source": [
    "class length:\n",
    "    def __init__(self,value,unit):\n",
    "        self.value = value\n",
    "        self.unit = unit\n",
    "    def convert_to_meters(self):\n",
    "        if self.unit == 'см':\n",
    "            self.value /= 100\n",
    "            self.unit = 'м'\n",
    "        elif self.unit == 'км':\n",
    "            self.value *= 1000\n",
    "            self.unit = 'м'\n",
    "\n",
    "    def convert_to_centimeters(self):\n",
    "        if self.unit == 'м':\n",
    "            self.value *= 100\n",
    "            self.unit = 'см'\n",
    "        elif self.unit == 'км':\n",
    "            self.value *= 100000\n",
    "            self.unit = 'см'\n",
    "\n",
    "    def convert_to_kilometers(self):\n",
    "        if self.unit == 'м':\n",
    "            self.value /= 1000\n",
    "            self.unit = 'км'\n",
    "        elif self.unit == 'см':\n",
    "            self.value /= 100000\n",
    "            self.unit = 'км'\n",
    "\n",
    "    def __str__(self):\n",
    "        return f'{self.value} {self.unit}'\n",
    "\n",
    "length = length(1000, 'м')\n",
    "print(length)  \n",
    "\n",
    "length.convert_to_kilometers()\n",
    "print(length)  \n",
    "\n",
    "length.convert_to_centimeters()\n",
    "print(length) \n"
   ]
  },
  {
   "cell_type": "markdown",
   "metadata": {},
   "source": [
    "2. Создайте класс Ведомость, имеющий\n",
    "атрибут класса:\n",
    "\n",
    "• список_дисциплин (значением является список с названиями дисциплин);\n",
    "\n",
    "свойства:\n",
    "\n",
    "• дисциплина (при задании значения проверять наличие дисциплины в атрибуте список_дисциплин),\n",
    "\n",
    "• группа;\n",
    "\n",
    "методы:\n",
    "\n",
    "• put – добавляет в ведомость информацию об оценке студента (фамилия, оценка – параметры метода). Для хранения данных внутри класса используйте словарь, в котором ключом является фамилия студента. Возможные оценки – «отлично», «хорошо», «удовл.», «неудовл.», «н/я»;\n",
    "\n",
    "• get – возвращает оценку, полученную студентом (фамилия студента – параметр метода);\n",
    "\n",
    "• change – изменяет оценку, полученную студентом (фамилия студента и новая оценка – параметры метода);\n",
    "\n",
    "• del – удаляет информацию о студенте из ведомости (фамилия студента – параметр метода);\n",
    "\n",
    "• result – возвращает кортеж из 5 чисел (количество каждого вида оценок в ведомости);\n",
    "\n",
    "• __init__ – конструктор;\n",
    "\n",
    "• __str__ – возвращает строку, содержащую заголовки (название экзамена, группа) и результаты экзамена в виде таблицы;\n",
    "\n",
    "• count – возвращает количество студентов в ведомости;\n",
    "\n",
    "• names – возвращает список фамилий, имеющихся в ведомости.\n",
    "\n",
    "Продемонстрируйте работу с классом. \n"
   ]
  },
  {
   "cell_type": "code",
   "execution_count": 38,
   "metadata": {},
   "outputs": [
    {
     "name": "stdout",
     "output_type": "stream",
     "text": [
      "Экзамен: Математика\n",
      "Группа: Группа 1\n",
      "\n",
      "Фамилия\t\tОценка\n",
      "Иванов\t\tотлично\n",
      "Петров\t\tхорошо\n",
      "Гяургиев\t\tудовл.\n",
      "\n",
      "Количество студентов в ведомости: 3\n",
      "Фамилии студентов в ведомости: ['Иванов', 'Петров', 'Гяургиев']\n",
      "Результаты экзамена: (1, 1, 1, 0, 0)\n",
      "Экзамен: Математика\n",
      "Группа: Группа 1\n",
      "\n",
      "Фамилия\t\tОценка\n",
      "Иванов\t\tотлично\n",
      "Петров\t\tнеудовл.\n",
      "\n"
     ]
    }
   ],
   "source": [
    "# Решение 2.\n",
    "class GradeBook:\n",
    "    def __init__(self, disciplines, group):\n",
    "        self.list_of_disciplines = disciplines\n",
    "        self.group = group\n",
    "        self.grades = {}\n",
    "\n",
    "  \n",
    "    def discipline(self):\n",
    "        return self._discipline\n",
    "\n",
    "   \n",
    "    def discipline(self, value):\n",
    "        if value in self.list_of_disciplines:\n",
    "            self._discipline = value\n",
    "        else:\n",
    "            print(f\"Дисциплина {value} не найдена в списке дисциплин.\")\n",
    "\n",
    "    def put(self, student, grade):\n",
    "        if grade in ['отлично', 'хорошо', 'удовл.', 'неудовл.', 'н/я']:\n",
    "            self.grades[student] = grade\n",
    "        else:\n",
    "            print(\"Некорректная оценка. Возможные оценки: отлично, хорошо, удовл., неудовл., н/я\")\n",
    "\n",
    "    def get(self, student):\n",
    "        return self.grades.get(student, \"Студент не найден\")\n",
    "\n",
    "    def change(self, student, new_grade):\n",
    "        if new_grade in ['отлично', 'хорошо', 'удовл.', 'неудовл.', 'н/я']:\n",
    "            if student in self.grades:\n",
    "                self.grades[student] = new_grade\n",
    "            else:\n",
    "                print(f\"Студент {student} не найден в ведомости.\")\n",
    "        else:\n",
    "            print(\"Некорректная оценка. Возможные оценки: отлично, хорошо, удовл., неудовл., н/я\")\n",
    "\n",
    "    def delete(self, student):\n",
    "        if student in self.grades:\n",
    "            del self.grades[student]\n",
    "        else:\n",
    "            print(f\"Студент {student} не найден в ведомости.\")\n",
    "\n",
    "    def result(self):\n",
    "        grades_count = {grade: list(self.grades.values()).count(grade) for grade in ['отлично', 'хорошо', 'удовл.', 'неудовл.', 'н/я']}\n",
    "        return tuple(grades_count[grade] for grade in ['отлично', 'хорошо', 'удовл.', 'неудовл.', 'н/я'])\n",
    "\n",
    "    def count(self):\n",
    "        return len(self.grades)\n",
    "\n",
    "    def names(self):\n",
    "        return list(self.grades.keys())\n",
    "\n",
    "    def __str__(self):\n",
    "        table = f\"Экзамен: {self.discipline}\\nГруппа: {self.group}\\n\\n\"\n",
    "        table += \"Фамилия\\t\\tОценка\\n\"\n",
    "        for student, grade in self.grades.items():\n",
    "            table += f\"{student}\\t\\t{grade}\\n\"\n",
    "        return table\n",
    "\n",
    "\n",
    "disciplines = ['Математика', 'Физика', 'История']\n",
    "group = 'Группа 1'\n",
    "grade_book = GradeBook(disciplines, group)\n",
    "\n",
    "grade_book.discipline = 'Математика'\n",
    "grade_book.put('Иванов', 'отлично')\n",
    "grade_book.put('Петров', 'хорошо')\n",
    "grade_book.put('Гяургиев', 'удовл.')\n",
    "print(grade_book)\n",
    "\n",
    "print(\"Количество студентов в ведомости:\", grade_book.count())\n",
    "print(\"Фамилии студентов в ведомости:\", grade_book.names())\n",
    "print(\"Результаты экзамена:\", grade_book.result())\n",
    "\n",
    "grade_book.change('Петров', 'неудовл.')\n",
    "grade_book.delete('Гяургиев')\n",
    "print(grade_book)\n",
    "\n"
   ]
  },
  {
   "cell_type": "markdown",
   "metadata": {},
   "source": [
    "3. Создайте класс Заказ(Order), у которого есть свойства код_товара(code), цена(price), количество(count) и методы __init__ и __str__.\n",
    "\n",
    "Создайте 2 класса-потомка: Опт(Opt) и Розница(Retail).\n",
    "В этих классах создайте методы __init__, __str__.и сумма_заказа(summa), позволяющий узнать стоимость заказа.\n",
    "Для опта стоимость единицы товара составляет 95% от цены, а при покупке более 500 штук – 90% цены.\n",
    "В розницу стоимость единицы товара составляет 100% цены. Стоимость заказа равна произведению цены на количество. \n",
    "\n",
    "Продемонстрируйте работу с классами, создав необходимые объекты и обратившись к их свойствам и методам\n"
   ]
  },
  {
   "cell_type": "code",
   "execution_count": 51,
   "metadata": {},
   "outputs": [
    {
     "name": "stdout",
     "output_type": "stream",
     "text": [
      "Opt Order: A001, Price: 100, Count: 600\n",
      "Total sum for Opt order: 54000.0\n",
      "Retail Order: B002, Price: 50, Count: 10\n",
      "Total sum for Retail order: 500\n"
     ]
    }
   ],
   "source": [
    "# Решение 3.\n",
    "class Order:\n",
    "    def __init__(self, code, price, count):\n",
    "        self.code = code\n",
    "        self.price = price\n",
    "        self.count = count\n",
    "\n",
    "    def __str__(self):\n",
    "        return f\"Order: {self.code}, Price: {self.price}, Count: {self.count}\"\n",
    "\n",
    "class Opt(Order):\n",
    "    def __init__(self, code, price, count):\n",
    "        super().__init__(code, price, count)\n",
    "\n",
    "    def __str__(self):\n",
    "        return f\"Opt Order: {self.code}, Price: {self.price}, Count: {self.count}\"\n",
    "\n",
    "    def summa(self):\n",
    "        if self.count > 500:\n",
    "            return self.price * self.count * 0.9\n",
    "        else:\n",
    "            return self.price * self.count * 0.95\n",
    "\n",
    "class Retail(Order):\n",
    "    def __init__(self, code, price, count):\n",
    "        super().__init__(code, price, count)\n",
    "\n",
    "    def __str__(self):\n",
    "        return f\"Retail Order: {self.code}, Price: {self.price}, Count: {self.count}\"\n",
    "\n",
    "    def summa(self):\n",
    "        return self.price * self.count\n",
    "\n",
    "opt_order = Opt(\"A001\", 100, 600)\n",
    "retail_order = Retail(\"B002\", 50, 10)\n",
    "\n",
    "print(opt_order)\n",
    "print(f\"Total sum for Opt order: {opt_order.summa()}\")\n",
    "\n",
    "print(retail_order)\n",
    "print(f\"Total sum for Retail order: {retail_order.summa()}\")\n"
   ]
  },
  {
   "cell_type": "markdown",
   "metadata": {},
   "source": [
    "4. Написать функцию my_func_1(lst), которая переворачивает список вложенных списков с произвольным уровнем вложенности.\n",
    "Любой элемент, не являющийся списком, не должен быть изменен.\n",
    "\n",
    "Примеры, демонстрирующие ожидаемое поведение функции:\n",
    "\n",
    "assert my_func_1(42) == 42\n",
    "\n",
    "assert my_func_1([]) == []\n",
    "\n",
    "assert my_func_1([1, 2]) == [2, 1]\n",
    "\n",
    "assert my_func_1((1, 2)) == (1, 2)\n",
    "\n",
    "assert my_func_1([[1, 2], [3, [4, 5]], 6]) == [6, [[5, 4], 3], [2, 1]]\n",
    "\n",
    "assert my_func_1(['123', '456', '789', {10: [11, 12], 13: 14}, (15, 16)]) == [(15, 16), {10: [11, 12], 13: 14}, '789', '456', '123']\n",
    "\n",
    "assert my_func_1([[[[[1, 2]]]]]) == [[[[[2, 1]]]]]"
   ]
  },
  {
   "cell_type": "code",
   "execution_count": 45,
   "metadata": {},
   "outputs": [],
   "source": [
    "# Решение 4.\n",
    "def my_func_1(lst):\n",
    "    if not isinstance(lst, list):  \n",
    "        return lst\n",
    "    return [my_func_1(item) for item in reversed(lst)]\n",
    "assert my_func_1(42) == 42\n",
    "assert my_func_1([]) == []\n",
    "assert my_func_1([1, 2]) == [2, 1]\n",
    "assert my_func_1((1, 2)) == (1, 2)\n",
    "assert my_func_1([[1, 2], [3, [4, 5]], 6]) == [6, [[5, 4], 3], [2, 1]]\n",
    "assert my_func_1(['123', '456', '789', {10: [11, 12], 13: 14}, (15, 16)]) == [(15, 16), {10: [11, 12], 13: 14}, '789', '456', '123']\n",
    "assert my_func_1([[[[[1, 2]]]]]) == [[[[[2, 1]]]]]\n"
   ]
  },
  {
   "cell_type": "markdown",
   "metadata": {},
   "source": [
    "5.При помощи механизма map/filter/reduce возвести в квадрат числа от 1 до 100, и рассчитать их сумму, не включая в сумму числа, кратные 9. Написать реализацию в одну строку."
   ]
  },
  {
   "cell_type": "code",
   "execution_count": 53,
   "metadata": {},
   "outputs": [],
   "source": [
    "# Решение 5.\n"
   ]
  },
  {
   "cell_type": "markdown",
   "metadata": {},
   "source": [
    "6.Написать декоратор с параметром my_decorator(n). Декоратор превращает функцию, возвращающую поддерживающий итерации объект (далее \"последовательность\"), в функцию-генератор. Если декорируемая функция возвращает что-то другое, а не последовательность, то декоратор должен вернуть этот результат вызова функции без изменений.\n",
    "\n",
    "Проверку объекта можно организовать при помощи условия import collections if isinstance(item, collections.Iterable)\n",
    "\n",
    "Параметром декоратора может быть целое положительное число n, тогда получившаяся функция-декоратор должна генерировать по одному значению из последовательности, повторенной n раз. Также параметр может принимать строковое значение 'inf', тогда функция-декоратор генерирует по одному значению из последовательности, повторенной бесконечное число раз (зацикливает генерирование результата).\n",
    "\n",
    "Подсказка: сначала реализовать случай со значением аргумента 'inf', а затем модифицировать для целочисленного значения аргумента."
   ]
  },
  {
   "cell_type": "code",
   "execution_count": null,
   "metadata": {},
   "outputs": [],
   "source": [
    "# Решение 6.\n"
   ]
  }
 ],
 "metadata": {
  "kernelspec": {
   "display_name": "Python 3 (ipykernel)",
   "language": "python",
   "name": "python3"
  },
  "language_info": {
   "codemirror_mode": {
    "name": "ipython",
    "version": 3
   },
   "file_extension": ".py",
   "mimetype": "text/x-python",
   "name": "python",
   "nbconvert_exporter": "python",
   "pygments_lexer": "ipython3",
   "version": "3.12.0"
  }
 },
 "nbformat": 4,
 "nbformat_minor": 4
}
